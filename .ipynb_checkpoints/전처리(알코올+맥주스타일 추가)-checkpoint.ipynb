{
 "cells": [
  {
   "cell_type": "code",
   "execution_count": 1,
   "id": "3facb502",
   "metadata": {},
   "outputs": [],
   "source": [
    "### 전처리"
   ]
  },
  {
   "cell_type": "code",
   "execution_count": 2,
   "id": "16d5060e",
   "metadata": {},
   "outputs": [],
   "source": [
    "# Import Moduels\n",
    "import pandas as pd\n",
    "from nltk.corpus import stopwords\n",
    "import nltk\n",
    "from nltk.stem import WordNetLemmatizer\n",
    "import re\n",
    "import math\n",
    "from collections import Counter"
   ]
  },
  {
   "cell_type": "code",
   "execution_count": 9,
   "id": "8f804cea",
   "metadata": {},
   "outputs": [
    {
     "name": "stderr",
     "output_type": "stream",
     "text": [
      "[nltk_data] Downloading package stopwords to\n",
      "[nltk_data]     C:\\Users\\dong_\\AppData\\Roaming\\nltk_data...\n",
      "[nltk_data]   Unzipping corpora\\stopwords.zip.\n"
     ]
    },
    {
     "data": {
      "text/plain": [
       "True"
      ]
     },
     "execution_count": 9,
     "metadata": {},
     "output_type": "execute_result"
    }
   ],
   "source": [
    "import nltk\n",
    "nltk.download('stopwords')"
   ]
  },
  {
   "cell_type": "code",
   "execution_count": 12,
   "id": "bacfd70b",
   "metadata": {},
   "outputs": [
    {
     "name": "stderr",
     "output_type": "stream",
     "text": [
      "[nltk_data] Downloading package wordnet to\n",
      "[nltk_data]     C:\\Users\\dong_\\AppData\\Roaming\\nltk_data...\n"
     ]
    },
    {
     "data": {
      "text/plain": [
       "True"
      ]
     },
     "execution_count": 12,
     "metadata": {},
     "output_type": "execute_result"
    }
   ],
   "source": [
    "import nltk\n",
    "nltk.download('wordnet')"
   ]
  },
  {
   "cell_type": "code",
   "execution_count": null,
   "id": "659aadda",
   "metadata": {},
   "outputs": [],
   "source": []
  },
  {
   "cell_type": "code",
   "execution_count": 3,
   "id": "bdf34787",
   "metadata": {
    "scrolled": true
   },
   "outputs": [],
   "source": [
    "df=pd.read_csv('../data/merged_data.csv')"
   ]
  },
  {
   "cell_type": "code",
   "execution_count": 13,
   "id": "bc27a5b5",
   "metadata": {},
   "outputs": [],
   "source": [
    "# 공백전환, 소문자변환, 불용어제거, 어간추출 과정을 동시에 할 수 있는 함수 \n",
    "def data_text_cleaning(data):\n",
    "    # 영문자 이외 문자는 공백으로 변환\n",
    "    only_english = re.sub('[^a-zA-Z\\.]', ' ', data)\n",
    "    # 소문자 변환\n",
    "    no_capitals = only_english.lower().split()\n",
    "    # 불용어 제거\n",
    "    stops = set(stopwords.words('english'))\n",
    "    no_stops = [word for word in no_capitals if not word in stops]\n",
    "    # 어간 추출\n",
    "    lemmatizer = WordNetLemmatizer() \n",
    "    stemmer_words = [lemmatizer.lemmatize(word) for word in no_stops]\n",
    "        \n",
    "    # 공백으로 구분된 문자열로 결합하여 결과 반환\n",
    "    return ' '.join(stemmer_words)"
   ]
  },
  {
   "cell_type": "code",
   "execution_count": 14,
   "id": "1f3b2a7a",
   "metadata": {
    "scrolled": true
   },
   "outputs": [],
   "source": [
    "df['tokens'] = df['review'].apply(lambda x : data_text_cleaning(x))\n"
   ]
  },
  {
   "cell_type": "code",
   "execution_count": 15,
   "id": "c5da4ed4",
   "metadata": {},
   "outputs": [
    {
     "data": {
      "text/html": [
       "<div>\n",
       "<style scoped>\n",
       "    .dataframe tbody tr th:only-of-type {\n",
       "        vertical-align: middle;\n",
       "    }\n",
       "\n",
       "    .dataframe tbody tr th {\n",
       "        vertical-align: top;\n",
       "    }\n",
       "\n",
       "    .dataframe thead th {\n",
       "        text-align: right;\n",
       "    }\n",
       "</style>\n",
       "<table border=\"1\" class=\"dataframe\">\n",
       "  <thead>\n",
       "    <tr style=\"text-align: right;\">\n",
       "      <th></th>\n",
       "      <th>beer_name</th>\n",
       "      <th>ID</th>\n",
       "      <th>rating</th>\n",
       "      <th>date</th>\n",
       "      <th>review</th>\n",
       "      <th>Aroma</th>\n",
       "      <th>Appearance</th>\n",
       "      <th>Flavor</th>\n",
       "      <th>Mouthfeel</th>\n",
       "      <th>beer_st</th>\n",
       "      <th>alcohol</th>\n",
       "      <th>tokens</th>\n",
       "    </tr>\n",
       "  </thead>\n",
       "  <tbody>\n",
       "    <tr>\n",
       "      <th>0</th>\n",
       "      <td>Kloud Original Gravity</td>\n",
       "      <td>vinivini(9,584)</td>\n",
       "      <td>2.9</td>\n",
       "      <td>December 29, 2022</td>\n",
       "      <td>Straight from the can. Clean, malty, bready &amp; ...</td>\n",
       "      <td>5</td>\n",
       "      <td>4</td>\n",
       "      <td>6</td>\n",
       "      <td>4</td>\n",
       "      <td>Pale Lager - International / Premium</td>\n",
       "      <td>5.0%</td>\n",
       "      <td>straight can. clean malty bready grassy. light...</td>\n",
       "    </tr>\n",
       "    <tr>\n",
       "      <th>1</th>\n",
       "      <td>Kloud Original Gravity</td>\n",
       "      <td>italianjohn(5,521)</td>\n",
       "      <td>2.8</td>\n",
       "      <td>September 6, 2021</td>\n",
       "      <td>Clear golden blonde pour with a thin white hea...</td>\n",
       "      <td>5</td>\n",
       "      <td>3</td>\n",
       "      <td>5</td>\n",
       "      <td>3</td>\n",
       "      <td>Pale Lager - International / Premium</td>\n",
       "      <td>5.0%</td>\n",
       "      <td>clear golden blonde pour thin white head spot ...</td>\n",
       "    </tr>\n",
       "    <tr>\n",
       "      <th>2</th>\n",
       "      <td>Kloud Original Gravity</td>\n",
       "      <td>orda(296)</td>\n",
       "      <td>3.9</td>\n",
       "      <td>August 29, 2021</td>\n",
       "      <td>Appearance: golden amber; slight head Taste: d...</td>\n",
       "      <td>10</td>\n",
       "      <td>5</td>\n",
       "      <td>10</td>\n",
       "      <td>5</td>\n",
       "      <td>Pale Lager - International / Premium</td>\n",
       "      <td>5.0%</td>\n",
       "      <td>appearance golden amber slight head taste dece...</td>\n",
       "    </tr>\n",
       "    <tr>\n",
       "      <th>3</th>\n",
       "      <td>Kloud Original Gravity</td>\n",
       "      <td>Radek Kliber(8,125)</td>\n",
       "      <td>2.4</td>\n",
       "      <td>June 5, 2021</td>\n",
       "      <td>Bottle 330 ml   Aroma: nice, fresh, on dry sid...</td>\n",
       "      <td>6</td>\n",
       "      <td>3</td>\n",
       "      <td>4</td>\n",
       "      <td>2</td>\n",
       "      <td>Pale Lager - International / Premium</td>\n",
       "      <td>5.0%</td>\n",
       "      <td>bottle ml aroma nice fresh dry side. feel macr...</td>\n",
       "    </tr>\n",
       "    <tr>\n",
       "      <th>4</th>\n",
       "      <td>Kloud Original Gravity</td>\n",
       "      <td>geologyguy(2,602)</td>\n",
       "      <td>2.3</td>\n",
       "      <td>May 26, 2021</td>\n",
       "      <td>Smell is light of malt...taste is a that malt ...</td>\n",
       "      <td>4</td>\n",
       "      <td>3</td>\n",
       "      <td>4</td>\n",
       "      <td>3</td>\n",
       "      <td>Pale Lager - International / Premium</td>\n",
       "      <td>5.0%</td>\n",
       "      <td>smell light malt...taste malt kinda taste like...</td>\n",
       "    </tr>\n",
       "    <tr>\n",
       "      <th>...</th>\n",
       "      <td>...</td>\n",
       "      <td>...</td>\n",
       "      <td>...</td>\n",
       "      <td>...</td>\n",
       "      <td>...</td>\n",
       "      <td>...</td>\n",
       "      <td>...</td>\n",
       "      <td>...</td>\n",
       "      <td>...</td>\n",
       "      <td>...</td>\n",
       "      <td>...</td>\n",
       "      <td>...</td>\n",
       "    </tr>\n",
       "    <tr>\n",
       "      <th>68571</th>\n",
       "      <td>Warsteiner Premium Verum</td>\n",
       "      <td>beerman991979(136)</td>\n",
       "      <td>3.2</td>\n",
       "      <td>September 2, 2000</td>\n",
       "      <td>I didn't think this was that bad.  Yeah it doe...</td>\n",
       "      <td>6</td>\n",
       "      <td>3</td>\n",
       "      <td>6</td>\n",
       "      <td>3</td>\n",
       "      <td>Pilsener / Pils / Pilsner</td>\n",
       "      <td>4.8%</td>\n",
       "      <td>think bad. yeah fit pilsner style hell good be...</td>\n",
       "    </tr>\n",
       "    <tr>\n",
       "      <th>68572</th>\n",
       "      <td>Warsteiner Premium Verum</td>\n",
       "      <td>turtlehead(111)</td>\n",
       "      <td>2.9</td>\n",
       "      <td>August 28, 2000</td>\n",
       "      <td>A yeasty, almost strong pilsner with a pleasan...</td>\n",
       "      <td>8</td>\n",
       "      <td>3</td>\n",
       "      <td>6</td>\n",
       "      <td>2</td>\n",
       "      <td>Pilsener / Pils / Pilsner</td>\n",
       "      <td>4.8%</td>\n",
       "      <td>yeasty almost strong pilsner pleasant aroma mu...</td>\n",
       "    </tr>\n",
       "    <tr>\n",
       "      <th>68573</th>\n",
       "      <td>Warsteiner Premium Verum</td>\n",
       "      <td>Aubrey(3,516)</td>\n",
       "      <td>2.9</td>\n",
       "      <td>August 24, 2000</td>\n",
       "      <td>Initially sharp, but then fizzy and bitter. A ...</td>\n",
       "      <td>5</td>\n",
       "      <td>3</td>\n",
       "      <td>5</td>\n",
       "      <td>3</td>\n",
       "      <td>Pilsener / Pils / Pilsner</td>\n",
       "      <td>4.8%</td>\n",
       "      <td>initially sharp fizzy bitter. little rough pal...</td>\n",
       "    </tr>\n",
       "    <tr>\n",
       "      <th>68574</th>\n",
       "      <td>Warsteiner Premium Verum</td>\n",
       "      <td>Sammys(427)</td>\n",
       "      <td>2.9</td>\n",
       "      <td>July 20, 2000</td>\n",
       "      <td>This was good for a Pilsner, I suppose, but la...</td>\n",
       "      <td>7</td>\n",
       "      <td>3</td>\n",
       "      <td>6</td>\n",
       "      <td>3</td>\n",
       "      <td>Pilsener / Pils / Pilsner</td>\n",
       "      <td>4.8%</td>\n",
       "      <td>good pilsner suppose lacked body opinion. refr...</td>\n",
       "    </tr>\n",
       "    <tr>\n",
       "      <th>68575</th>\n",
       "      <td>Warsteiner Premium Verum</td>\n",
       "      <td>PhillyBeer2112(3,413)</td>\n",
       "      <td>3.8</td>\n",
       "      <td>May 31, 2000</td>\n",
       "      <td>One of the best pilsners - and very identifiab...</td>\n",
       "      <td>7</td>\n",
       "      <td>5</td>\n",
       "      <td>7</td>\n",
       "      <td>4</td>\n",
       "      <td>Pilsener / Pils / Pilsner</td>\n",
       "      <td>4.8%</td>\n",
       "      <td>one best pilsner identifiable. bitterness alwa...</td>\n",
       "    </tr>\n",
       "  </tbody>\n",
       "</table>\n",
       "<p>68576 rows × 12 columns</p>\n",
       "</div>"
      ],
      "text/plain": [
       "                      beer_name                     ID  rating  \\\n",
       "0        Kloud Original Gravity        vinivini(9,584)     2.9   \n",
       "1        Kloud Original Gravity     italianjohn(5,521)     2.8   \n",
       "2        Kloud Original Gravity              orda(296)     3.9   \n",
       "3        Kloud Original Gravity    Radek Kliber(8,125)     2.4   \n",
       "4        Kloud Original Gravity      geologyguy(2,602)     2.3   \n",
       "...                         ...                    ...     ...   \n",
       "68571  Warsteiner Premium Verum     beerman991979(136)     3.2   \n",
       "68572  Warsteiner Premium Verum        turtlehead(111)     2.9   \n",
       "68573  Warsteiner Premium Verum          Aubrey(3,516)     2.9   \n",
       "68574  Warsteiner Premium Verum            Sammys(427)     2.9   \n",
       "68575  Warsteiner Premium Verum  PhillyBeer2112(3,413)     3.8   \n",
       "\n",
       "                    date                                             review  \\\n",
       "0      December 29, 2022  Straight from the can. Clean, malty, bready & ...   \n",
       "1      September 6, 2021  Clear golden blonde pour with a thin white hea...   \n",
       "2        August 29, 2021  Appearance: golden amber; slight head Taste: d...   \n",
       "3           June 5, 2021  Bottle 330 ml   Aroma: nice, fresh, on dry sid...   \n",
       "4           May 26, 2021  Smell is light of malt...taste is a that malt ...   \n",
       "...                  ...                                                ...   \n",
       "68571  September 2, 2000  I didn't think this was that bad.  Yeah it doe...   \n",
       "68572    August 28, 2000  A yeasty, almost strong pilsner with a pleasan...   \n",
       "68573    August 24, 2000  Initially sharp, but then fizzy and bitter. A ...   \n",
       "68574      July 20, 2000  This was good for a Pilsner, I suppose, but la...   \n",
       "68575       May 31, 2000  One of the best pilsners - and very identifiab...   \n",
       "\n",
       "       Aroma  Appearance  Flavor  Mouthfeel  \\\n",
       "0          5           4       6          4   \n",
       "1          5           3       5          3   \n",
       "2         10           5      10          5   \n",
       "3          6           3       4          2   \n",
       "4          4           3       4          3   \n",
       "...      ...         ...     ...        ...   \n",
       "68571      6           3       6          3   \n",
       "68572      8           3       6          2   \n",
       "68573      5           3       5          3   \n",
       "68574      7           3       6          3   \n",
       "68575      7           5       7          4   \n",
       "\n",
       "                                      beer_st alcohol  \\\n",
       "0      Pale Lager - International / Premium      5.0%   \n",
       "1      Pale Lager - International / Premium      5.0%   \n",
       "2      Pale Lager - International / Premium      5.0%   \n",
       "3      Pale Lager - International / Premium      5.0%   \n",
       "4      Pale Lager - International / Premium      5.0%   \n",
       "...                                       ...     ...   \n",
       "68571           Pilsener / Pils / Pilsner        4.8%   \n",
       "68572           Pilsener / Pils / Pilsner        4.8%   \n",
       "68573           Pilsener / Pils / Pilsner        4.8%   \n",
       "68574           Pilsener / Pils / Pilsner        4.8%   \n",
       "68575           Pilsener / Pils / Pilsner        4.8%   \n",
       "\n",
       "                                                  tokens  \n",
       "0      straight can. clean malty bready grassy. light...  \n",
       "1      clear golden blonde pour thin white head spot ...  \n",
       "2      appearance golden amber slight head taste dece...  \n",
       "3      bottle ml aroma nice fresh dry side. feel macr...  \n",
       "4      smell light malt...taste malt kinda taste like...  \n",
       "...                                                  ...  \n",
       "68571  think bad. yeah fit pilsner style hell good be...  \n",
       "68572  yeasty almost strong pilsner pleasant aroma mu...  \n",
       "68573  initially sharp fizzy bitter. little rough pal...  \n",
       "68574  good pilsner suppose lacked body opinion. refr...  \n",
       "68575  one best pilsner identifiable. bitterness alwa...  \n",
       "\n",
       "[68576 rows x 12 columns]"
      ]
     },
     "execution_count": 15,
     "metadata": {},
     "output_type": "execute_result"
    }
   ],
   "source": [
    "df"
   ]
  },
  {
   "cell_type": "code",
   "execution_count": 16,
   "id": "ffcefd46",
   "metadata": {},
   "outputs": [],
   "source": [
    "df.to_csv('beer_tokens.csv')"
   ]
  },
  {
   "cell_type": "code",
   "execution_count": 8,
   "id": "1b5bc88f",
   "metadata": {
    "collapsed": true
   },
   "outputs": [
    {
     "ename": "FileNotFoundError",
     "evalue": "[Errno 2] No such file or directory: 'beer_aftertokens.csv'",
     "output_type": "error",
     "traceback": [
      "\u001b[1;31m---------------------------------------------------------------------------\u001b[0m",
      "\u001b[1;31mFileNotFoundError\u001b[0m                         Traceback (most recent call last)",
      "Cell \u001b[1;32mIn[8], line 1\u001b[0m\n\u001b[1;32m----> 1\u001b[0m a \u001b[38;5;241m=\u001b[39m \u001b[43mpd\u001b[49m\u001b[38;5;241;43m.\u001b[39;49m\u001b[43mread_csv\u001b[49m\u001b[43m(\u001b[49m\u001b[38;5;124;43m'\u001b[39;49m\u001b[38;5;124;43mbeer_aftertokens.csv\u001b[39;49m\u001b[38;5;124;43m'\u001b[39;49m\u001b[43m,\u001b[49m\u001b[43mindex_col\u001b[49m\u001b[43m \u001b[49m\u001b[38;5;241;43m=\u001b[39;49m\u001b[43m \u001b[49m\u001b[38;5;241;43m0\u001b[39;49m\u001b[43m)\u001b[49m\n",
      "File \u001b[1;32m~\\AppData\\Roaming\\Python\\Python39\\site-packages\\pandas\\util\\_decorators.py:211\u001b[0m, in \u001b[0;36mdeprecate_kwarg.<locals>._deprecate_kwarg.<locals>.wrapper\u001b[1;34m(*args, **kwargs)\u001b[0m\n\u001b[0;32m    209\u001b[0m     \u001b[38;5;28;01melse\u001b[39;00m:\n\u001b[0;32m    210\u001b[0m         kwargs[new_arg_name] \u001b[38;5;241m=\u001b[39m new_arg_value\n\u001b[1;32m--> 211\u001b[0m \u001b[38;5;28;01mreturn\u001b[39;00m func(\u001b[38;5;241m*\u001b[39margs, \u001b[38;5;241m*\u001b[39m\u001b[38;5;241m*\u001b[39mkwargs)\n",
      "File \u001b[1;32m~\\AppData\\Roaming\\Python\\Python39\\site-packages\\pandas\\util\\_decorators.py:331\u001b[0m, in \u001b[0;36mdeprecate_nonkeyword_arguments.<locals>.decorate.<locals>.wrapper\u001b[1;34m(*args, **kwargs)\u001b[0m\n\u001b[0;32m    325\u001b[0m \u001b[38;5;28;01mif\u001b[39;00m \u001b[38;5;28mlen\u001b[39m(args) \u001b[38;5;241m>\u001b[39m num_allow_args:\n\u001b[0;32m    326\u001b[0m     warnings\u001b[38;5;241m.\u001b[39mwarn(\n\u001b[0;32m    327\u001b[0m         msg\u001b[38;5;241m.\u001b[39mformat(arguments\u001b[38;5;241m=\u001b[39m_format_argument_list(allow_args)),\n\u001b[0;32m    328\u001b[0m         \u001b[38;5;167;01mFutureWarning\u001b[39;00m,\n\u001b[0;32m    329\u001b[0m         stacklevel\u001b[38;5;241m=\u001b[39mfind_stack_level(),\n\u001b[0;32m    330\u001b[0m     )\n\u001b[1;32m--> 331\u001b[0m \u001b[38;5;28;01mreturn\u001b[39;00m func(\u001b[38;5;241m*\u001b[39margs, \u001b[38;5;241m*\u001b[39m\u001b[38;5;241m*\u001b[39mkwargs)\n",
      "File \u001b[1;32m~\\AppData\\Roaming\\Python\\Python39\\site-packages\\pandas\\io\\parsers\\readers.py:950\u001b[0m, in \u001b[0;36mread_csv\u001b[1;34m(filepath_or_buffer, sep, delimiter, header, names, index_col, usecols, squeeze, prefix, mangle_dupe_cols, dtype, engine, converters, true_values, false_values, skipinitialspace, skiprows, skipfooter, nrows, na_values, keep_default_na, na_filter, verbose, skip_blank_lines, parse_dates, infer_datetime_format, keep_date_col, date_parser, dayfirst, cache_dates, iterator, chunksize, compression, thousands, decimal, lineterminator, quotechar, quoting, doublequote, escapechar, comment, encoding, encoding_errors, dialect, error_bad_lines, warn_bad_lines, on_bad_lines, delim_whitespace, low_memory, memory_map, float_precision, storage_options)\u001b[0m\n\u001b[0;32m    935\u001b[0m kwds_defaults \u001b[38;5;241m=\u001b[39m _refine_defaults_read(\n\u001b[0;32m    936\u001b[0m     dialect,\n\u001b[0;32m    937\u001b[0m     delimiter,\n\u001b[1;32m   (...)\u001b[0m\n\u001b[0;32m    946\u001b[0m     defaults\u001b[38;5;241m=\u001b[39m{\u001b[38;5;124m\"\u001b[39m\u001b[38;5;124mdelimiter\u001b[39m\u001b[38;5;124m\"\u001b[39m: \u001b[38;5;124m\"\u001b[39m\u001b[38;5;124m,\u001b[39m\u001b[38;5;124m\"\u001b[39m},\n\u001b[0;32m    947\u001b[0m )\n\u001b[0;32m    948\u001b[0m kwds\u001b[38;5;241m.\u001b[39mupdate(kwds_defaults)\n\u001b[1;32m--> 950\u001b[0m \u001b[38;5;28;01mreturn\u001b[39;00m \u001b[43m_read\u001b[49m\u001b[43m(\u001b[49m\u001b[43mfilepath_or_buffer\u001b[49m\u001b[43m,\u001b[49m\u001b[43m \u001b[49m\u001b[43mkwds\u001b[49m\u001b[43m)\u001b[49m\n",
      "File \u001b[1;32m~\\AppData\\Roaming\\Python\\Python39\\site-packages\\pandas\\io\\parsers\\readers.py:605\u001b[0m, in \u001b[0;36m_read\u001b[1;34m(filepath_or_buffer, kwds)\u001b[0m\n\u001b[0;32m    602\u001b[0m _validate_names(kwds\u001b[38;5;241m.\u001b[39mget(\u001b[38;5;124m\"\u001b[39m\u001b[38;5;124mnames\u001b[39m\u001b[38;5;124m\"\u001b[39m, \u001b[38;5;28;01mNone\u001b[39;00m))\n\u001b[0;32m    604\u001b[0m \u001b[38;5;66;03m# Create the parser.\u001b[39;00m\n\u001b[1;32m--> 605\u001b[0m parser \u001b[38;5;241m=\u001b[39m TextFileReader(filepath_or_buffer, \u001b[38;5;241m*\u001b[39m\u001b[38;5;241m*\u001b[39mkwds)\n\u001b[0;32m    607\u001b[0m \u001b[38;5;28;01mif\u001b[39;00m chunksize \u001b[38;5;129;01mor\u001b[39;00m iterator:\n\u001b[0;32m    608\u001b[0m     \u001b[38;5;28;01mreturn\u001b[39;00m parser\n",
      "File \u001b[1;32m~\\AppData\\Roaming\\Python\\Python39\\site-packages\\pandas\\io\\parsers\\readers.py:1442\u001b[0m, in \u001b[0;36mTextFileReader.__init__\u001b[1;34m(self, f, engine, **kwds)\u001b[0m\n\u001b[0;32m   1439\u001b[0m     \u001b[38;5;28mself\u001b[39m\u001b[38;5;241m.\u001b[39moptions[\u001b[38;5;124m\"\u001b[39m\u001b[38;5;124mhas_index_names\u001b[39m\u001b[38;5;124m\"\u001b[39m] \u001b[38;5;241m=\u001b[39m kwds[\u001b[38;5;124m\"\u001b[39m\u001b[38;5;124mhas_index_names\u001b[39m\u001b[38;5;124m\"\u001b[39m]\n\u001b[0;32m   1441\u001b[0m \u001b[38;5;28mself\u001b[39m\u001b[38;5;241m.\u001b[39mhandles: IOHandles \u001b[38;5;241m|\u001b[39m \u001b[38;5;28;01mNone\u001b[39;00m \u001b[38;5;241m=\u001b[39m \u001b[38;5;28;01mNone\u001b[39;00m\n\u001b[1;32m-> 1442\u001b[0m \u001b[38;5;28mself\u001b[39m\u001b[38;5;241m.\u001b[39m_engine \u001b[38;5;241m=\u001b[39m \u001b[38;5;28;43mself\u001b[39;49m\u001b[38;5;241;43m.\u001b[39;49m\u001b[43m_make_engine\u001b[49m\u001b[43m(\u001b[49m\u001b[43mf\u001b[49m\u001b[43m,\u001b[49m\u001b[43m \u001b[49m\u001b[38;5;28;43mself\u001b[39;49m\u001b[38;5;241;43m.\u001b[39;49m\u001b[43mengine\u001b[49m\u001b[43m)\u001b[49m\n",
      "File \u001b[1;32m~\\AppData\\Roaming\\Python\\Python39\\site-packages\\pandas\\io\\parsers\\readers.py:1735\u001b[0m, in \u001b[0;36mTextFileReader._make_engine\u001b[1;34m(self, f, engine)\u001b[0m\n\u001b[0;32m   1733\u001b[0m     \u001b[38;5;28;01mif\u001b[39;00m \u001b[38;5;124m\"\u001b[39m\u001b[38;5;124mb\u001b[39m\u001b[38;5;124m\"\u001b[39m \u001b[38;5;129;01mnot\u001b[39;00m \u001b[38;5;129;01min\u001b[39;00m mode:\n\u001b[0;32m   1734\u001b[0m         mode \u001b[38;5;241m+\u001b[39m\u001b[38;5;241m=\u001b[39m \u001b[38;5;124m\"\u001b[39m\u001b[38;5;124mb\u001b[39m\u001b[38;5;124m\"\u001b[39m\n\u001b[1;32m-> 1735\u001b[0m \u001b[38;5;28mself\u001b[39m\u001b[38;5;241m.\u001b[39mhandles \u001b[38;5;241m=\u001b[39m \u001b[43mget_handle\u001b[49m\u001b[43m(\u001b[49m\n\u001b[0;32m   1736\u001b[0m \u001b[43m    \u001b[49m\u001b[43mf\u001b[49m\u001b[43m,\u001b[49m\n\u001b[0;32m   1737\u001b[0m \u001b[43m    \u001b[49m\u001b[43mmode\u001b[49m\u001b[43m,\u001b[49m\n\u001b[0;32m   1738\u001b[0m \u001b[43m    \u001b[49m\u001b[43mencoding\u001b[49m\u001b[38;5;241;43m=\u001b[39;49m\u001b[38;5;28;43mself\u001b[39;49m\u001b[38;5;241;43m.\u001b[39;49m\u001b[43moptions\u001b[49m\u001b[38;5;241;43m.\u001b[39;49m\u001b[43mget\u001b[49m\u001b[43m(\u001b[49m\u001b[38;5;124;43m\"\u001b[39;49m\u001b[38;5;124;43mencoding\u001b[39;49m\u001b[38;5;124;43m\"\u001b[39;49m\u001b[43m,\u001b[49m\u001b[43m \u001b[49m\u001b[38;5;28;43;01mNone\u001b[39;49;00m\u001b[43m)\u001b[49m\u001b[43m,\u001b[49m\n\u001b[0;32m   1739\u001b[0m \u001b[43m    \u001b[49m\u001b[43mcompression\u001b[49m\u001b[38;5;241;43m=\u001b[39;49m\u001b[38;5;28;43mself\u001b[39;49m\u001b[38;5;241;43m.\u001b[39;49m\u001b[43moptions\u001b[49m\u001b[38;5;241;43m.\u001b[39;49m\u001b[43mget\u001b[49m\u001b[43m(\u001b[49m\u001b[38;5;124;43m\"\u001b[39;49m\u001b[38;5;124;43mcompression\u001b[39;49m\u001b[38;5;124;43m\"\u001b[39;49m\u001b[43m,\u001b[49m\u001b[43m \u001b[49m\u001b[38;5;28;43;01mNone\u001b[39;49;00m\u001b[43m)\u001b[49m\u001b[43m,\u001b[49m\n\u001b[0;32m   1740\u001b[0m \u001b[43m    \u001b[49m\u001b[43mmemory_map\u001b[49m\u001b[38;5;241;43m=\u001b[39;49m\u001b[38;5;28;43mself\u001b[39;49m\u001b[38;5;241;43m.\u001b[39;49m\u001b[43moptions\u001b[49m\u001b[38;5;241;43m.\u001b[39;49m\u001b[43mget\u001b[49m\u001b[43m(\u001b[49m\u001b[38;5;124;43m\"\u001b[39;49m\u001b[38;5;124;43mmemory_map\u001b[39;49m\u001b[38;5;124;43m\"\u001b[39;49m\u001b[43m,\u001b[49m\u001b[43m \u001b[49m\u001b[38;5;28;43;01mFalse\u001b[39;49;00m\u001b[43m)\u001b[49m\u001b[43m,\u001b[49m\n\u001b[0;32m   1741\u001b[0m \u001b[43m    \u001b[49m\u001b[43mis_text\u001b[49m\u001b[38;5;241;43m=\u001b[39;49m\u001b[43mis_text\u001b[49m\u001b[43m,\u001b[49m\n\u001b[0;32m   1742\u001b[0m \u001b[43m    \u001b[49m\u001b[43merrors\u001b[49m\u001b[38;5;241;43m=\u001b[39;49m\u001b[38;5;28;43mself\u001b[39;49m\u001b[38;5;241;43m.\u001b[39;49m\u001b[43moptions\u001b[49m\u001b[38;5;241;43m.\u001b[39;49m\u001b[43mget\u001b[49m\u001b[43m(\u001b[49m\u001b[38;5;124;43m\"\u001b[39;49m\u001b[38;5;124;43mencoding_errors\u001b[39;49m\u001b[38;5;124;43m\"\u001b[39;49m\u001b[43m,\u001b[49m\u001b[43m \u001b[49m\u001b[38;5;124;43m\"\u001b[39;49m\u001b[38;5;124;43mstrict\u001b[39;49m\u001b[38;5;124;43m\"\u001b[39;49m\u001b[43m)\u001b[49m\u001b[43m,\u001b[49m\n\u001b[0;32m   1743\u001b[0m \u001b[43m    \u001b[49m\u001b[43mstorage_options\u001b[49m\u001b[38;5;241;43m=\u001b[39;49m\u001b[38;5;28;43mself\u001b[39;49m\u001b[38;5;241;43m.\u001b[39;49m\u001b[43moptions\u001b[49m\u001b[38;5;241;43m.\u001b[39;49m\u001b[43mget\u001b[49m\u001b[43m(\u001b[49m\u001b[38;5;124;43m\"\u001b[39;49m\u001b[38;5;124;43mstorage_options\u001b[39;49m\u001b[38;5;124;43m\"\u001b[39;49m\u001b[43m,\u001b[49m\u001b[43m \u001b[49m\u001b[38;5;28;43;01mNone\u001b[39;49;00m\u001b[43m)\u001b[49m\u001b[43m,\u001b[49m\n\u001b[0;32m   1744\u001b[0m \u001b[43m\u001b[49m\u001b[43m)\u001b[49m\n\u001b[0;32m   1745\u001b[0m \u001b[38;5;28;01massert\u001b[39;00m \u001b[38;5;28mself\u001b[39m\u001b[38;5;241m.\u001b[39mhandles \u001b[38;5;129;01mis\u001b[39;00m \u001b[38;5;129;01mnot\u001b[39;00m \u001b[38;5;28;01mNone\u001b[39;00m\n\u001b[0;32m   1746\u001b[0m f \u001b[38;5;241m=\u001b[39m \u001b[38;5;28mself\u001b[39m\u001b[38;5;241m.\u001b[39mhandles\u001b[38;5;241m.\u001b[39mhandle\n",
      "File \u001b[1;32m~\\AppData\\Roaming\\Python\\Python39\\site-packages\\pandas\\io\\common.py:856\u001b[0m, in \u001b[0;36mget_handle\u001b[1;34m(path_or_buf, mode, encoding, compression, memory_map, is_text, errors, storage_options)\u001b[0m\n\u001b[0;32m    851\u001b[0m \u001b[38;5;28;01melif\u001b[39;00m \u001b[38;5;28misinstance\u001b[39m(handle, \u001b[38;5;28mstr\u001b[39m):\n\u001b[0;32m    852\u001b[0m     \u001b[38;5;66;03m# Check whether the filename is to be opened in binary mode.\u001b[39;00m\n\u001b[0;32m    853\u001b[0m     \u001b[38;5;66;03m# Binary mode does not support 'encoding' and 'newline'.\u001b[39;00m\n\u001b[0;32m    854\u001b[0m     \u001b[38;5;28;01mif\u001b[39;00m ioargs\u001b[38;5;241m.\u001b[39mencoding \u001b[38;5;129;01mand\u001b[39;00m \u001b[38;5;124m\"\u001b[39m\u001b[38;5;124mb\u001b[39m\u001b[38;5;124m\"\u001b[39m \u001b[38;5;129;01mnot\u001b[39;00m \u001b[38;5;129;01min\u001b[39;00m ioargs\u001b[38;5;241m.\u001b[39mmode:\n\u001b[0;32m    855\u001b[0m         \u001b[38;5;66;03m# Encoding\u001b[39;00m\n\u001b[1;32m--> 856\u001b[0m         handle \u001b[38;5;241m=\u001b[39m \u001b[38;5;28;43mopen\u001b[39;49m\u001b[43m(\u001b[49m\n\u001b[0;32m    857\u001b[0m \u001b[43m            \u001b[49m\u001b[43mhandle\u001b[49m\u001b[43m,\u001b[49m\n\u001b[0;32m    858\u001b[0m \u001b[43m            \u001b[49m\u001b[43mioargs\u001b[49m\u001b[38;5;241;43m.\u001b[39;49m\u001b[43mmode\u001b[49m\u001b[43m,\u001b[49m\n\u001b[0;32m    859\u001b[0m \u001b[43m            \u001b[49m\u001b[43mencoding\u001b[49m\u001b[38;5;241;43m=\u001b[39;49m\u001b[43mioargs\u001b[49m\u001b[38;5;241;43m.\u001b[39;49m\u001b[43mencoding\u001b[49m\u001b[43m,\u001b[49m\n\u001b[0;32m    860\u001b[0m \u001b[43m            \u001b[49m\u001b[43merrors\u001b[49m\u001b[38;5;241;43m=\u001b[39;49m\u001b[43merrors\u001b[49m\u001b[43m,\u001b[49m\n\u001b[0;32m    861\u001b[0m \u001b[43m            \u001b[49m\u001b[43mnewline\u001b[49m\u001b[38;5;241;43m=\u001b[39;49m\u001b[38;5;124;43m\"\u001b[39;49m\u001b[38;5;124;43m\"\u001b[39;49m\u001b[43m,\u001b[49m\n\u001b[0;32m    862\u001b[0m \u001b[43m        \u001b[49m\u001b[43m)\u001b[49m\n\u001b[0;32m    863\u001b[0m     \u001b[38;5;28;01melse\u001b[39;00m:\n\u001b[0;32m    864\u001b[0m         \u001b[38;5;66;03m# Binary mode\u001b[39;00m\n\u001b[0;32m    865\u001b[0m         handle \u001b[38;5;241m=\u001b[39m \u001b[38;5;28mopen\u001b[39m(handle, ioargs\u001b[38;5;241m.\u001b[39mmode)\n",
      "\u001b[1;31mFileNotFoundError\u001b[0m: [Errno 2] No such file or directory: 'beer_aftertokens.csv'"
     ]
    }
   ],
   "source": [
    "a = pd.read_csv('../data/beer_aftertokens.csv',index_col = 0)\n"
   ]
  },
  {
   "cell_type": "code",
   "execution_count": 17,
   "id": "59f9931d",
   "metadata": {},
   "outputs": [
    {
     "ename": "MemoryError",
     "evalue": "Unable to allocate 20.5 GiB for an array with shape (68567, 40085) and data type float64",
     "output_type": "error",
     "traceback": [
      "\u001b[1;31m---------------------------------------------------------------------------\u001b[0m",
      "\u001b[1;31mMemoryError\u001b[0m                               Traceback (most recent call last)",
      "Cell \u001b[1;32mIn[17], line 15\u001b[0m\n\u001b[0;32m     12\u001b[0m X \u001b[38;5;241m=\u001b[39m vectorizer\u001b[38;5;241m.\u001b[39mfit_transform(tokens)\n\u001b[0;32m     14\u001b[0m \u001b[38;5;66;03m# 벡터화된 결과를 데이터프레임에 추가\u001b[39;00m\n\u001b[1;32m---> 15\u001b[0m vectorized_data \u001b[38;5;241m=\u001b[39m pd\u001b[38;5;241m.\u001b[39mDataFrame(\u001b[43mX\u001b[49m\u001b[38;5;241;43m.\u001b[39;49m\u001b[43mtoarray\u001b[49m\u001b[43m(\u001b[49m\u001b[43m)\u001b[49m, columns\u001b[38;5;241m=\u001b[39mvectorizer\u001b[38;5;241m.\u001b[39mget_feature_names())\n\u001b[0;32m     16\u001b[0m df \u001b[38;5;241m=\u001b[39m pd\u001b[38;5;241m.\u001b[39mconcat([df, vectorized_data], axis\u001b[38;5;241m=\u001b[39m\u001b[38;5;241m1\u001b[39m)\n\u001b[0;32m     18\u001b[0m \u001b[38;5;66;03m# 벡터화된 데이터프레임 확인\u001b[39;00m\n",
      "File \u001b[1;32mC:\\anaconda3\\envs\\nam\\lib\\site-packages\\scipy\\sparse\\_compressed.py:1051\u001b[0m, in \u001b[0;36m_cs_matrix.toarray\u001b[1;34m(self, order, out)\u001b[0m\n\u001b[0;32m   1049\u001b[0m \u001b[38;5;28;01mif\u001b[39;00m out \u001b[38;5;129;01mis\u001b[39;00m \u001b[38;5;28;01mNone\u001b[39;00m \u001b[38;5;129;01mand\u001b[39;00m order \u001b[38;5;129;01mis\u001b[39;00m \u001b[38;5;28;01mNone\u001b[39;00m:\n\u001b[0;32m   1050\u001b[0m     order \u001b[38;5;241m=\u001b[39m \u001b[38;5;28mself\u001b[39m\u001b[38;5;241m.\u001b[39m_swap(\u001b[38;5;124m'\u001b[39m\u001b[38;5;124mcf\u001b[39m\u001b[38;5;124m'\u001b[39m)[\u001b[38;5;241m0\u001b[39m]\n\u001b[1;32m-> 1051\u001b[0m out \u001b[38;5;241m=\u001b[39m \u001b[38;5;28;43mself\u001b[39;49m\u001b[38;5;241;43m.\u001b[39;49m\u001b[43m_process_toarray_args\u001b[49m\u001b[43m(\u001b[49m\u001b[43morder\u001b[49m\u001b[43m,\u001b[49m\u001b[43m \u001b[49m\u001b[43mout\u001b[49m\u001b[43m)\u001b[49m\n\u001b[0;32m   1052\u001b[0m \u001b[38;5;28;01mif\u001b[39;00m \u001b[38;5;129;01mnot\u001b[39;00m (out\u001b[38;5;241m.\u001b[39mflags\u001b[38;5;241m.\u001b[39mc_contiguous \u001b[38;5;129;01mor\u001b[39;00m out\u001b[38;5;241m.\u001b[39mflags\u001b[38;5;241m.\u001b[39mf_contiguous):\n\u001b[0;32m   1053\u001b[0m     \u001b[38;5;28;01mraise\u001b[39;00m \u001b[38;5;167;01mValueError\u001b[39;00m(\u001b[38;5;124m'\u001b[39m\u001b[38;5;124mOutput array must be C or F contiguous\u001b[39m\u001b[38;5;124m'\u001b[39m)\n",
      "File \u001b[1;32mC:\\anaconda3\\envs\\nam\\lib\\site-packages\\scipy\\sparse\\_base.py:1298\u001b[0m, in \u001b[0;36mspmatrix._process_toarray_args\u001b[1;34m(self, order, out)\u001b[0m\n\u001b[0;32m   1296\u001b[0m     \u001b[38;5;28;01mreturn\u001b[39;00m out\n\u001b[0;32m   1297\u001b[0m \u001b[38;5;28;01melse\u001b[39;00m:\n\u001b[1;32m-> 1298\u001b[0m     \u001b[38;5;28;01mreturn\u001b[39;00m \u001b[43mnp\u001b[49m\u001b[38;5;241;43m.\u001b[39;49m\u001b[43mzeros\u001b[49m\u001b[43m(\u001b[49m\u001b[38;5;28;43mself\u001b[39;49m\u001b[38;5;241;43m.\u001b[39;49m\u001b[43mshape\u001b[49m\u001b[43m,\u001b[49m\u001b[43m \u001b[49m\u001b[43mdtype\u001b[49m\u001b[38;5;241;43m=\u001b[39;49m\u001b[38;5;28;43mself\u001b[39;49m\u001b[38;5;241;43m.\u001b[39;49m\u001b[43mdtype\u001b[49m\u001b[43m,\u001b[49m\u001b[43m \u001b[49m\u001b[43morder\u001b[49m\u001b[38;5;241;43m=\u001b[39;49m\u001b[43morder\u001b[49m\u001b[43m)\u001b[49m\n",
      "\u001b[1;31mMemoryError\u001b[0m: Unable to allocate 20.5 GiB for an array with shape (68567, 40085) and data type float64"
     ]
    }
   ],
   "source": [
    "import pandas as pd\n",
    "from sklearn.feature_extraction.text import TfidfVectorizer\n",
    "\n",
    "# CSV 파일 로드\n",
    "df = pd.read_csv('beer_tok.csv')\n",
    "\n",
    "# 'tokens_filtered' 컬럼의 토큰화된 단어 데이터 가져오기\n",
    "tokens = df['tokens_filtered'].tolist()\n",
    "\n",
    "# TfidfVectorizer를 사용하여 벡터화\n",
    "vectorizer = TfidfVectorizer()\n",
    "X = vectorizer.fit_transform(tokens)\n",
    "\n",
    "# 벡터화된 결과를 데이터프레임에 추가\n",
    "vectorized_data = pd.DataFrame(X.toarray(), columns=vectorizer.get_feature_names())\n",
    "df = pd.concat([df, vectorized_data], axis=1)\n",
    "\n",
    "# 벡터화된 데이터프레임 확인\n",
    "print(df.head())\n"
   ]
  },
  {
   "cell_type": "code",
   "execution_count": 19,
   "id": "4fbcea24",
   "metadata": {},
   "outputs": [
    {
     "name": "stdout",
     "output_type": "stream",
     "text": [
      "   Unnamed: 0               beer_name                   ID  rating  \\\n",
      "0           0  Kloud Original Gravity      vinivini(9,584)     2.9   \n",
      "1           1  Kloud Original Gravity   italianjohn(5,521)     2.8   \n",
      "2           2  Kloud Original Gravity            orda(296)     3.9   \n",
      "3           3  Kloud Original Gravity  Radek Kliber(8,125)     2.4   \n",
      "4           4  Kloud Original Gravity    geologyguy(2,602)     2.3   \n",
      "\n",
      "                date                                             review  \\\n",
      "0  December 29, 2022  Straight from the can. Clean, malty, bready & ...   \n",
      "1  September 6, 2021  Clear golden blonde pour with a thin white hea...   \n",
      "2    August 29, 2021  Appearance: golden amber; slight head Taste: d...   \n",
      "3       June 5, 2021  Bottle 330 ml   Aroma: nice, fresh, on dry sid...   \n",
      "4       May 26, 2021  Smell is light of malt...taste is a that malt ...   \n",
      "\n",
      "   Aroma  Appearance  Flavor  Mouthfeel  ... zwarte zwei zwickau zwieback  \\\n",
      "0      2           4       3          4  ...    0.0  0.0     0.0      0.0   \n",
      "1      2           3       2          3  ...    0.0  0.0     0.0      0.0   \n",
      "2      5           5       5          5  ...    0.0  0.0     0.0      0.0   \n",
      "3      3           3       2          2  ...    0.0  0.0     0.0      0.0   \n",
      "4      2           3       2          3  ...    0.0  0.0     0.0      0.0   \n",
      "\n",
      "   zwiesel  zythos  zzzzz  zzzzzz  zzzzzzxxxxxxxx  \\\n",
      "0      0.0     0.0    0.0     0.0             0.0   \n",
      "1      0.0     0.0    0.0     0.0             0.0   \n",
      "2      0.0     0.0    0.0     0.0             0.0   \n",
      "3      0.0     0.0    0.0     0.0             0.0   \n",
      "4      0.0     0.0    0.0     0.0             0.0   \n",
      "\n",
      "   zzzzzzzzzzzzzzzzzzzzzzzzzzzzz  \n",
      "0                            0.0  \n",
      "1                            0.0  \n",
      "2                            0.0  \n",
      "3                            0.0  \n",
      "4                            0.0  \n",
      "\n",
      "[5 rows x 40099 columns]\n"
     ]
    }
   ],
   "source": [
    "import pandas as pd\n",
    "from sklearn.feature_extraction.text import TfidfVectorizer\n",
    "\n",
    "# CSV 파일 로드\n",
    "df = pd.read_csv('../data/beer_tok.csv')\n",
    "\n",
    "# 'tokens_filtered' 컬럼의 토큰화된 단어 데이터 가져오기\n",
    "tokens = df['tokens_filtered'].tolist()\n",
    "\n",
    "# TfidfVectorizer를 사용하여 희소 행렬 생성\n",
    "vectorizer = TfidfVectorizer()\n",
    "X = vectorizer.fit_transform(tokens)\n",
    "\n",
    "# 희소 행렬을 데이터프레임으로 변환\n",
    "vectorized_data = pd.DataFrame.sparse.from_spmatrix(X, columns=vectorizer.get_feature_names_out())\n",
    "\n",
    "# 기존 데이터프레임과 결합\n",
    "df = pd.concat([df, vectorized_data], axis=1)\n",
    "\n",
    "# 벡터화된 데이터프레임 확인\n",
    "print(df.head())\n"
   ]
  },
  {
   "cell_type": "code",
   "execution_count": 1,
   "id": "3948b4b0",
   "metadata": {},
   "outputs": [
    {
     "name": "stdout",
     "output_type": "stream",
     "text": [
      "Collecting gensim\n",
      "  Downloading gensim-4.3.1-cp39-cp39-win_amd64.whl (24.0 MB)\n",
      "     --------------------------------------- 24.0/24.0 MB 14.2 MB/s eta 0:00:00\n",
      "Requirement already satisfied: numpy>=1.18.5 in c:\\anaconda3\\envs\\nam\\lib\\site-packages (from gensim) (1.23.0)\n",
      "Requirement already satisfied: scipy>=1.7.0 in c:\\anaconda3\\envs\\nam\\lib\\site-packages (from gensim) (1.10.1)\n",
      "Collecting smart-open>=1.8.1\n",
      "  Downloading smart_open-6.3.0-py3-none-any.whl (56 kB)\n",
      "     ---------------------------------------- 56.8/56.8 kB 2.9 MB/s eta 0:00:00\n",
      "Installing collected packages: smart-open, gensim\n",
      "Successfully installed gensim-4.3.1 smart-open-6.3.0\n"
     ]
    },
    {
     "name": "stderr",
     "output_type": "stream",
     "text": [
      "WARNING: Ignoring invalid distribution -lotly (c:\\anaconda3\\envs\\nam\\lib\\site-packages)\n",
      "WARNING: Ignoring invalid distribution -lotly (c:\\anaconda3\\envs\\nam\\lib\\site-packages)\n",
      "WARNING: Ignoring invalid distribution -lotly (c:\\anaconda3\\envs\\nam\\lib\\site-packages)\n",
      "WARNING: Ignoring invalid distribution -lotly (c:\\anaconda3\\envs\\nam\\lib\\site-packages)\n",
      "WARNING: Ignoring invalid distribution -lotly (c:\\anaconda3\\envs\\nam\\lib\\site-packages)\n",
      "WARNING: Ignoring invalid distribution -lotly (c:\\anaconda3\\envs\\nam\\lib\\site-packages)\n",
      "WARNING: Ignoring invalid distribution -lotly (c:\\anaconda3\\envs\\nam\\lib\\site-packages)\n",
      "WARNING: Ignoring invalid distribution -lotly (c:\\anaconda3\\envs\\nam\\lib\\site-packages)\n"
     ]
    }
   ],
   "source": [
    "!pip install gensim"
   ]
  },
  {
   "cell_type": "code",
   "execution_count": 3,
   "id": "fca90ecd",
   "metadata": {},
   "outputs": [],
   "source": [
    "import pandas as pd\n",
    "from gensim.models import Word2Vec\n",
    "\n",
    "# csv 파일 로드\n",
    "data = pd.read_csv('../data/beer_tok.csv')\n",
    "\n",
    "# 토큰화된 데이터 가져오기\n",
    "tokenized_data = data['tokens_filtered'].apply(eval).tolist()  # 'tokens' 컬럼에 있는 데이터를 리스트로 변환\n",
    "\n",
    "# Word2Vec 모델 훈련\n",
    "model = Word2Vec(tokenized_data, min_count=1)\n",
    "\n",
    "# 임베딩 벡터 확인\n",
    "word_vectors = model.wv\n",
    "vector = word_vectors['example']  # 단어 'example'의 임베딩 벡터를 얻음"
   ]
  },
  {
   "cell_type": "code",
   "execution_count": 4,
   "id": "094ad4bc",
   "metadata": {},
   "outputs": [
    {
     "data": {
      "text/plain": [
       "array([-1.9004424e-01,  1.5638793e+00,  3.2027587e-01,  8.3520912e-02,\n",
       "        3.3065698e-01,  5.2377719e-01,  2.1500827e-01,  7.1644843e-01,\n",
       "       -4.3087903e-01, -4.8013484e-01, -2.5278913e-02, -2.0803595e+00,\n",
       "       -1.7107430e-01, -9.0067869e-01,  1.2467109e+00, -8.3916193e-01,\n",
       "        1.7666705e-01, -1.8598925e+00,  1.2541796e+00, -1.2763876e+00,\n",
       "        5.8051455e-01,  6.3958693e-01,  3.1726801e-01, -9.7978413e-01,\n",
       "       -8.1909096e-01, -6.0928631e-01, -8.2032137e-02, -1.5195358e+00,\n",
       "       -8.1668687e-01, -7.0905793e-01,  1.2681161e-02, -5.8026665e-01,\n",
       "       -7.2367474e-02, -1.7865064e+00, -1.3972020e+00, -2.4810630e-01,\n",
       "        9.3420833e-01,  3.5821787e-01,  9.9045217e-02, -1.0895308e+00,\n",
       "        4.3694028e-01, -1.5488359e-01,  3.0208355e-01, -1.9157997e-01,\n",
       "        7.9980671e-02,  8.2917333e-01, -2.9515597e-01, -5.6521130e-01,\n",
       "       -2.3924725e-01,  1.4797875e-01,  8.6343428e-03,  5.1563495e-01,\n",
       "        1.8040788e+00, -4.7776639e-01,  1.4022381e+00, -7.7888340e-01,\n",
       "        9.3481988e-01, -6.9238998e-02, -1.3489411e+00, -4.0016800e-01,\n",
       "       -5.1783973e-01, -3.4907147e-01,  8.8644348e-02, -1.2344946e+00,\n",
       "        7.6732820e-01, -2.5549531e-01,  1.9678394e-03,  2.1428433e-01,\n",
       "       -5.7701987e-01,  1.0941782e+00, -3.6448213e-01,  4.6010771e-01,\n",
       "        1.6438955e+00, -1.9335899e-01,  8.7060535e-01, -1.3239811e-01,\n",
       "        2.2836125e-01, -7.8072794e-02,  4.2528622e-02, -4.8060235e-01,\n",
       "        7.1444791e-03,  2.5837117e-01, -9.1894680e-01, -3.5147801e-01,\n",
       "       -6.3515866e-01,  3.7638235e-01,  1.7206609e-01,  2.5805695e-02,\n",
       "        7.7061492e-01,  9.5046514e-01,  8.7641954e-01, -2.8025457e-01,\n",
       "       -2.3635502e-01,  3.3578151e-01,  2.1078293e+00, -1.0471411e-01,\n",
       "       -7.0885712e-01,  5.7275832e-01,  2.2059026e-01, -9.2065942e-01],\n",
       "      dtype=float32)"
      ]
     },
     "execution_count": 4,
     "metadata": {},
     "output_type": "execute_result"
    }
   ],
   "source": [
    "vector"
   ]
  },
  {
   "cell_type": "code",
   "execution_count": 7,
   "id": "fcf838f3",
   "metadata": {},
   "outputs": [
    {
     "name": "stdout",
     "output_type": "stream",
     "text": [
      "[-1.9004424e-01  1.5638793e+00  3.2027587e-01  8.3520912e-02\n",
      "  3.3065698e-01  5.2377719e-01  2.1500827e-01  7.1644843e-01\n",
      " -4.3087903e-01 -4.8013484e-01 -2.5278913e-02 -2.0803595e+00\n",
      " -1.7107430e-01 -9.0067869e-01  1.2467109e+00 -8.3916193e-01\n",
      "  1.7666705e-01 -1.8598925e+00  1.2541796e+00 -1.2763876e+00\n",
      "  5.8051455e-01  6.3958693e-01  3.1726801e-01 -9.7978413e-01\n",
      " -8.1909096e-01 -6.0928631e-01 -8.2032137e-02 -1.5195358e+00\n",
      " -8.1668687e-01 -7.0905793e-01  1.2681161e-02 -5.8026665e-01\n",
      " -7.2367474e-02 -1.7865064e+00 -1.3972020e+00 -2.4810630e-01\n",
      "  9.3420833e-01  3.5821787e-01  9.9045217e-02 -1.0895308e+00\n",
      "  4.3694028e-01 -1.5488359e-01  3.0208355e-01 -1.9157997e-01\n",
      "  7.9980671e-02  8.2917333e-01 -2.9515597e-01 -5.6521130e-01\n",
      " -2.3924725e-01  1.4797875e-01  8.6343428e-03  5.1563495e-01\n",
      "  1.8040788e+00 -4.7776639e-01  1.4022381e+00 -7.7888340e-01\n",
      "  9.3481988e-01 -6.9238998e-02 -1.3489411e+00 -4.0016800e-01\n",
      " -5.1783973e-01 -3.4907147e-01  8.8644348e-02 -1.2344946e+00\n",
      "  7.6732820e-01 -2.5549531e-01  1.9678394e-03  2.1428433e-01\n",
      " -5.7701987e-01  1.0941782e+00 -3.6448213e-01  4.6010771e-01\n",
      "  1.6438955e+00 -1.9335899e-01  8.7060535e-01 -1.3239811e-01\n",
      "  2.2836125e-01 -7.8072794e-02  4.2528622e-02 -4.8060235e-01\n",
      "  7.1444791e-03  2.5837117e-01 -9.1894680e-01 -3.5147801e-01\n",
      " -6.3515866e-01  3.7638235e-01  1.7206609e-01  2.5805695e-02\n",
      "  7.7061492e-01  9.5046514e-01  8.7641954e-01 -2.8025457e-01\n",
      " -2.3635502e-01  3.3578151e-01  2.1078293e+00 -1.0471411e-01\n",
      " -7.0885712e-01  5.7275832e-01  2.2059026e-01 -9.2065942e-01]\n"
     ]
    }
   ],
   "source": [
    "word_vectors# 임베딩 벡터 확인\n",
    "print(vector)  # 'example' 단어의 임베딩 벡터 출력\n",
    "\n",
    "# 단어 간 유사도 계산\n",
    "#similarity = word_vectors.similarity('word1', 'word2')  # 'word1'과 'word2' 단어 간의 유사도 계산\n",
    "#print(similarity)"
   ]
  },
  {
   "cell_type": "code",
   "execution_count": 8,
   "id": "e275a0fd",
   "metadata": {
    "collapsed": true
   },
   "outputs": [
    {
     "ename": "AttributeError",
     "evalue": "module 'sklearn.metrics._dist_metrics' has no attribute 'DistanceMetric32'",
     "output_type": "error",
     "traceback": [
      "\u001b[1;31m---------------------------------------------------------------------------\u001b[0m",
      "\u001b[1;31mAttributeError\u001b[0m                            Traceback (most recent call last)",
      "Cell \u001b[1;32mIn[8], line 1\u001b[0m\n\u001b[1;32m----> 1\u001b[0m \u001b[38;5;28;01mfrom\u001b[39;00m \u001b[38;5;21;01msklearn\u001b[39;00m\u001b[38;5;21;01m.\u001b[39;00m\u001b[38;5;21;01mcluster\u001b[39;00m \u001b[38;5;28;01mimport\u001b[39;00m KMeans\n\u001b[0;32m      2\u001b[0m \u001b[38;5;28;01mimport\u001b[39;00m \u001b[38;5;21;01mnumpy\u001b[39;00m \u001b[38;5;28;01mas\u001b[39;00m \u001b[38;5;21;01mnp\u001b[39;00m\n\u001b[0;32m      4\u001b[0m \u001b[38;5;66;03m# 단어 벡터 가져오기\u001b[39;00m\n",
      "File \u001b[1;32mC:\\anaconda3\\envs\\nam\\lib\\site-packages\\sklearn\\cluster\\__init__.py:6\u001b[0m\n\u001b[0;32m      1\u001b[0m \u001b[38;5;124;03m\"\"\"\u001b[39;00m\n\u001b[0;32m      2\u001b[0m \u001b[38;5;124;03mThe :mod:`sklearn.cluster` module gathers popular unsupervised clustering\u001b[39;00m\n\u001b[0;32m      3\u001b[0m \u001b[38;5;124;03malgorithms.\u001b[39;00m\n\u001b[0;32m      4\u001b[0m \u001b[38;5;124;03m\"\"\"\u001b[39;00m\n\u001b[1;32m----> 6\u001b[0m \u001b[38;5;28;01mfrom\u001b[39;00m \u001b[38;5;21;01m.\u001b[39;00m\u001b[38;5;21;01m_spectral\u001b[39;00m \u001b[38;5;28;01mimport\u001b[39;00m spectral_clustering, SpectralClustering\n\u001b[0;32m      7\u001b[0m \u001b[38;5;28;01mfrom\u001b[39;00m \u001b[38;5;21;01m.\u001b[39;00m\u001b[38;5;21;01m_mean_shift\u001b[39;00m \u001b[38;5;28;01mimport\u001b[39;00m mean_shift, MeanShift, estimate_bandwidth, get_bin_seeds\n\u001b[0;32m      8\u001b[0m \u001b[38;5;28;01mfrom\u001b[39;00m \u001b[38;5;21;01m.\u001b[39;00m\u001b[38;5;21;01m_affinity_propagation\u001b[39;00m \u001b[38;5;28;01mimport\u001b[39;00m affinity_propagation, AffinityPropagation\n",
      "File \u001b[1;32mC:\\anaconda3\\envs\\nam\\lib\\site-packages\\sklearn\\cluster\\_spectral.py:19\u001b[0m\n\u001b[0;32m     17\u001b[0m \u001b[38;5;28;01mfrom\u001b[39;00m \u001b[38;5;21;01m.\u001b[39;00m\u001b[38;5;21;01m.\u001b[39;00m\u001b[38;5;21;01mbase\u001b[39;00m \u001b[38;5;28;01mimport\u001b[39;00m BaseEstimator, ClusterMixin\n\u001b[0;32m     18\u001b[0m \u001b[38;5;28;01mfrom\u001b[39;00m \u001b[38;5;21;01m.\u001b[39;00m\u001b[38;5;21;01m.\u001b[39;00m\u001b[38;5;21;01mutils\u001b[39;00m \u001b[38;5;28;01mimport\u001b[39;00m check_random_state, as_float_array, check_scalar\n\u001b[1;32m---> 19\u001b[0m \u001b[38;5;28;01mfrom\u001b[39;00m \u001b[38;5;21;01m.\u001b[39;00m\u001b[38;5;21;01m.\u001b[39;00m\u001b[38;5;21;01mmetrics\u001b[39;00m\u001b[38;5;21;01m.\u001b[39;00m\u001b[38;5;21;01mpairwise\u001b[39;00m \u001b[38;5;28;01mimport\u001b[39;00m pairwise_kernels\n\u001b[0;32m     20\u001b[0m \u001b[38;5;28;01mfrom\u001b[39;00m \u001b[38;5;21;01m.\u001b[39;00m\u001b[38;5;21;01m.\u001b[39;00m\u001b[38;5;21;01mneighbors\u001b[39;00m \u001b[38;5;28;01mimport\u001b[39;00m kneighbors_graph, NearestNeighbors\n\u001b[0;32m     21\u001b[0m \u001b[38;5;28;01mfrom\u001b[39;00m \u001b[38;5;21;01m.\u001b[39;00m\u001b[38;5;21;01m.\u001b[39;00m\u001b[38;5;21;01mmanifold\u001b[39;00m \u001b[38;5;28;01mimport\u001b[39;00m spectral_embedding\n",
      "File \u001b[1;32mC:\\anaconda3\\envs\\nam\\lib\\site-packages\\sklearn\\metrics\\__init__.py:41\u001b[0m\n\u001b[0;32m     37\u001b[0m \u001b[38;5;28;01mfrom\u001b[39;00m \u001b[38;5;21;01m.\u001b[39;00m\u001b[38;5;21;01m_classification\u001b[39;00m \u001b[38;5;28;01mimport\u001b[39;00m multilabel_confusion_matrix\n\u001b[0;32m     39\u001b[0m \u001b[38;5;28;01mfrom\u001b[39;00m \u001b[38;5;21;01m.\u001b[39;00m\u001b[38;5;21;01m_dist_metrics\u001b[39;00m \u001b[38;5;28;01mimport\u001b[39;00m DistanceMetric\n\u001b[1;32m---> 41\u001b[0m \u001b[38;5;28;01mfrom\u001b[39;00m \u001b[38;5;21;01m.\u001b[39;00m \u001b[38;5;28;01mimport\u001b[39;00m cluster\n\u001b[0;32m     42\u001b[0m \u001b[38;5;28;01mfrom\u001b[39;00m \u001b[38;5;21;01m.\u001b[39;00m\u001b[38;5;21;01mcluster\u001b[39;00m \u001b[38;5;28;01mimport\u001b[39;00m adjusted_mutual_info_score\n\u001b[0;32m     43\u001b[0m \u001b[38;5;28;01mfrom\u001b[39;00m \u001b[38;5;21;01m.\u001b[39;00m\u001b[38;5;21;01mcluster\u001b[39;00m \u001b[38;5;28;01mimport\u001b[39;00m adjusted_rand_score\n",
      "File \u001b[1;32mC:\\anaconda3\\envs\\nam\\lib\\site-packages\\sklearn\\metrics\\cluster\\__init__.py:22\u001b[0m\n\u001b[0;32m     20\u001b[0m \u001b[38;5;28;01mfrom\u001b[39;00m \u001b[38;5;21;01m.\u001b[39;00m\u001b[38;5;21;01m_supervised\u001b[39;00m \u001b[38;5;28;01mimport\u001b[39;00m fowlkes_mallows_score\n\u001b[0;32m     21\u001b[0m \u001b[38;5;28;01mfrom\u001b[39;00m \u001b[38;5;21;01m.\u001b[39;00m\u001b[38;5;21;01m_supervised\u001b[39;00m \u001b[38;5;28;01mimport\u001b[39;00m entropy\n\u001b[1;32m---> 22\u001b[0m \u001b[38;5;28;01mfrom\u001b[39;00m \u001b[38;5;21;01m.\u001b[39;00m\u001b[38;5;21;01m_unsupervised\u001b[39;00m \u001b[38;5;28;01mimport\u001b[39;00m silhouette_samples\n\u001b[0;32m     23\u001b[0m \u001b[38;5;28;01mfrom\u001b[39;00m \u001b[38;5;21;01m.\u001b[39;00m\u001b[38;5;21;01m_unsupervised\u001b[39;00m \u001b[38;5;28;01mimport\u001b[39;00m silhouette_score\n\u001b[0;32m     24\u001b[0m \u001b[38;5;28;01mfrom\u001b[39;00m \u001b[38;5;21;01m.\u001b[39;00m\u001b[38;5;21;01m_unsupervised\u001b[39;00m \u001b[38;5;28;01mimport\u001b[39;00m calinski_harabasz_score\n",
      "File \u001b[1;32mC:\\anaconda3\\envs\\nam\\lib\\site-packages\\sklearn\\metrics\\cluster\\_unsupervised.py:16\u001b[0m\n\u001b[0;32m     14\u001b[0m \u001b[38;5;28;01mfrom\u001b[39;00m \u001b[38;5;21;01m.\u001b[39;00m\u001b[38;5;21;01m.\u001b[39;00m\u001b[38;5;21;01m.\u001b[39;00m\u001b[38;5;21;01mutils\u001b[39;00m \u001b[38;5;28;01mimport\u001b[39;00m check_X_y\n\u001b[0;32m     15\u001b[0m \u001b[38;5;28;01mfrom\u001b[39;00m \u001b[38;5;21;01m.\u001b[39;00m\u001b[38;5;21;01m.\u001b[39;00m\u001b[38;5;21;01m.\u001b[39;00m\u001b[38;5;21;01mutils\u001b[39;00m \u001b[38;5;28;01mimport\u001b[39;00m _safe_indexing\n\u001b[1;32m---> 16\u001b[0m \u001b[38;5;28;01mfrom\u001b[39;00m \u001b[38;5;21;01m.\u001b[39;00m\u001b[38;5;21;01m.\u001b[39;00m\u001b[38;5;21;01mpairwise\u001b[39;00m \u001b[38;5;28;01mimport\u001b[39;00m pairwise_distances_chunked\n\u001b[0;32m     17\u001b[0m \u001b[38;5;28;01mfrom\u001b[39;00m \u001b[38;5;21;01m.\u001b[39;00m\u001b[38;5;21;01m.\u001b[39;00m\u001b[38;5;21;01mpairwise\u001b[39;00m \u001b[38;5;28;01mimport\u001b[39;00m pairwise_distances\n\u001b[0;32m     18\u001b[0m \u001b[38;5;28;01mfrom\u001b[39;00m \u001b[38;5;21;01m.\u001b[39;00m\u001b[38;5;21;01m.\u001b[39;00m\u001b[38;5;21;01m.\u001b[39;00m\u001b[38;5;21;01mpreprocessing\u001b[39;00m \u001b[38;5;28;01mimport\u001b[39;00m LabelEncoder\n",
      "File \u001b[1;32mC:\\anaconda3\\envs\\nam\\lib\\site-packages\\sklearn\\metrics\\pairwise.py:33\u001b[0m\n\u001b[0;32m     30\u001b[0m \u001b[38;5;28;01mfrom\u001b[39;00m \u001b[38;5;21;01m.\u001b[39;00m\u001b[38;5;21;01m.\u001b[39;00m\u001b[38;5;21;01mutils\u001b[39;00m\u001b[38;5;21;01m.\u001b[39;00m\u001b[38;5;21;01mfixes\u001b[39;00m \u001b[38;5;28;01mimport\u001b[39;00m delayed\n\u001b[0;32m     31\u001b[0m \u001b[38;5;28;01mfrom\u001b[39;00m \u001b[38;5;21;01m.\u001b[39;00m\u001b[38;5;21;01m.\u001b[39;00m\u001b[38;5;21;01mutils\u001b[39;00m\u001b[38;5;21;01m.\u001b[39;00m\u001b[38;5;21;01mfixes\u001b[39;00m \u001b[38;5;28;01mimport\u001b[39;00m sp_version, parse_version\n\u001b[1;32m---> 33\u001b[0m \u001b[38;5;28;01mfrom\u001b[39;00m \u001b[38;5;21;01m.\u001b[39;00m\u001b[38;5;21;01m_pairwise_distances_reduction\u001b[39;00m \u001b[38;5;28;01mimport\u001b[39;00m PairwiseDistancesArgKmin\n\u001b[0;32m     34\u001b[0m \u001b[38;5;28;01mfrom\u001b[39;00m \u001b[38;5;21;01m.\u001b[39;00m\u001b[38;5;21;01m_pairwise_fast\u001b[39;00m \u001b[38;5;28;01mimport\u001b[39;00m _chi2_kernel_fast, _sparse_manhattan\n\u001b[0;32m     35\u001b[0m \u001b[38;5;28;01mfrom\u001b[39;00m \u001b[38;5;21;01m.\u001b[39;00m\u001b[38;5;21;01m.\u001b[39;00m\u001b[38;5;21;01mexceptions\u001b[39;00m \u001b[38;5;28;01mimport\u001b[39;00m DataConversionWarning\n",
      "File \u001b[1;32mC:\\anaconda3\\envs\\nam\\lib\\site-packages\\sklearn\\metrics\\_pairwise_distances_reduction\\__init__.py:89\u001b[0m\n\u001b[0;32m      1\u001b[0m \u001b[38;5;66;03m# Pairwise Distances Reductions\u001b[39;00m\n\u001b[0;32m      2\u001b[0m \u001b[38;5;66;03m# =============================\u001b[39;00m\n\u001b[0;32m      3\u001b[0m \u001b[38;5;66;03m#\u001b[39;00m\n\u001b[1;32m   (...)\u001b[0m\n\u001b[0;32m     85\u001b[0m \u001b[38;5;66;03m#    using Generalized Matrix Multiplication over `float64` data (see the\u001b[39;00m\n\u001b[0;32m     86\u001b[0m \u001b[38;5;66;03m#    docstring of :class:`GEMMTermComputer64` for details).\u001b[39;00m\n\u001b[1;32m---> 89\u001b[0m \u001b[38;5;28;01mfrom\u001b[39;00m \u001b[38;5;21;01m.\u001b[39;00m\u001b[38;5;21;01m_dispatcher\u001b[39;00m \u001b[38;5;28;01mimport\u001b[39;00m (\n\u001b[0;32m     90\u001b[0m     BaseDistancesReductionDispatcher,\n\u001b[0;32m     91\u001b[0m     ArgKmin,\n\u001b[0;32m     92\u001b[0m     RadiusNeighbors,\n\u001b[0;32m     93\u001b[0m     sqeuclidean_row_norms,\n\u001b[0;32m     94\u001b[0m )\n\u001b[0;32m     96\u001b[0m __all__ \u001b[38;5;241m=\u001b[39m [\n\u001b[0;32m     97\u001b[0m     \u001b[38;5;124m\"\u001b[39m\u001b[38;5;124mBaseDistancesReductionDispatcher\u001b[39m\u001b[38;5;124m\"\u001b[39m,\n\u001b[0;32m     98\u001b[0m     \u001b[38;5;124m\"\u001b[39m\u001b[38;5;124mArgKmin\u001b[39m\u001b[38;5;124m\"\u001b[39m,\n\u001b[0;32m     99\u001b[0m     \u001b[38;5;124m\"\u001b[39m\u001b[38;5;124mRadiusNeighbors\u001b[39m\u001b[38;5;124m\"\u001b[39m,\n\u001b[0;32m    100\u001b[0m     \u001b[38;5;124m\"\u001b[39m\u001b[38;5;124msqeuclidean_row_norms\u001b[39m\u001b[38;5;124m\"\u001b[39m,\n\u001b[0;32m    101\u001b[0m ]\n",
      "File \u001b[1;32mC:\\anaconda3\\envs\\nam\\lib\\site-packages\\sklearn\\metrics\\_pairwise_distances_reduction\\_dispatcher.py:11\u001b[0m\n\u001b[0;32m      7\u001b[0m \u001b[38;5;28;01mfrom\u001b[39;00m \u001b[38;5;21;01mscipy\u001b[39;00m\u001b[38;5;21;01m.\u001b[39;00m\u001b[38;5;21;01msparse\u001b[39;00m \u001b[38;5;28;01mimport\u001b[39;00m isspmatrix_csr\n\u001b[0;32m      9\u001b[0m \u001b[38;5;28;01mfrom\u001b[39;00m \u001b[38;5;21;01m.\u001b[39;00m\u001b[38;5;21;01m.\u001b[39;00m\u001b[38;5;21;01m_dist_metrics\u001b[39;00m \u001b[38;5;28;01mimport\u001b[39;00m BOOL_METRICS, METRIC_MAPPING\n\u001b[1;32m---> 11\u001b[0m \u001b[38;5;28;01mfrom\u001b[39;00m \u001b[38;5;21;01m.\u001b[39;00m\u001b[38;5;21;01m_base\u001b[39;00m \u001b[38;5;28;01mimport\u001b[39;00m _sqeuclidean_row_norms32, _sqeuclidean_row_norms64\n\u001b[0;32m     12\u001b[0m \u001b[38;5;28;01mfrom\u001b[39;00m \u001b[38;5;21;01m.\u001b[39;00m\u001b[38;5;21;01m_argkmin\u001b[39;00m \u001b[38;5;28;01mimport\u001b[39;00m (\n\u001b[0;32m     13\u001b[0m     ArgKmin64,\n\u001b[0;32m     14\u001b[0m     ArgKmin32,\n\u001b[0;32m     15\u001b[0m )\n\u001b[0;32m     16\u001b[0m \u001b[38;5;28;01mfrom\u001b[39;00m \u001b[38;5;21;01m.\u001b[39;00m\u001b[38;5;21;01m_radius_neighbors\u001b[39;00m \u001b[38;5;28;01mimport\u001b[39;00m (\n\u001b[0;32m     17\u001b[0m     RadiusNeighbors64,\n\u001b[0;32m     18\u001b[0m     RadiusNeighbors32,\n\u001b[0;32m     19\u001b[0m )\n",
      "File \u001b[1;32msklearn\\metrics\\_pairwise_distances_reduction\\_base.pyx:1\u001b[0m, in \u001b[0;36minit sklearn.metrics._pairwise_distances_reduction._base\u001b[1;34m()\u001b[0m\n",
      "\u001b[1;31mAttributeError\u001b[0m: module 'sklearn.metrics._dist_metrics' has no attribute 'DistanceMetric32'"
     ]
    }
   ],
   "source": [
    "from sklearn.cluster import KMeans\n",
    "import numpy as np\n",
    "\n",
    "# 단어 벡터 가져오기\n",
    "word_vectors = model.wv\n",
    "\n",
    "# 단어와 벡터를 매핑한 딕셔너리 생성\n",
    "word_to_vector = {word: word_vectors[word] for word in word_vectors.vocab}\n",
    "\n",
    "# 벡터 리스트 생성\n",
    "vectors = [vector for vector in word_to_vector.values()]\n",
    "\n",
    "# K-means 클러스터링 수행\n",
    "k = 5  # 클러스터의 개수 설정\n",
    "kmeans = KMeans(n_clusters=k, random_state=42)\n",
    "kmeans.fit(vectors)\n",
    "\n",
    "# 클러스터링 결과 확인\n",
    "labels = kmeans.labels_  # 각 단어의 클러스터 레이블\n",
    "clusters = {i: [] for i in range(k)}  # 클러스터 별 단어 리스트를 저장할 딕셔너리\n",
    "\n",
    "for word, label in zip(word_to_vector.keys(), labels):\n",
    "    clusters[label].append(word)\n",
    "\n",
    "# 클러스터 출력\n",
    "for cluster_id, words in clusters.items():\n",
    "    print(f\"Cluster {cluster_id+1}: {words}\")"
   ]
  },
  {
   "cell_type": "code",
   "execution_count": null,
   "id": "fa5d46cf",
   "metadata": {},
   "outputs": [],
   "source": []
  }
 ],
 "metadata": {
  "kernelspec": {
   "display_name": "Python 3 (ipykernel)",
   "language": "python",
   "name": "python3"
  },
  "language_info": {
   "codemirror_mode": {
    "name": "ipython",
    "version": 3
   },
   "file_extension": ".py",
   "mimetype": "text/x-python",
   "name": "python",
   "nbconvert_exporter": "python",
   "pygments_lexer": "ipython3",
   "version": "3.9.15"
  }
 },
 "nbformat": 4,
 "nbformat_minor": 5
}
